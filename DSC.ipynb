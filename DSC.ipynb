{
 "cells": [
  {
   "cell_type": "markdown",
   "metadata": {},
   "source": [
    "# DSC Donation Details"
   ]
  },
  {
   "cell_type": "markdown",
   "metadata": {},
   "source": [
    "### Import Libraries"
   ]
  },
  {
   "cell_type": "code",
   "execution_count": 1,
   "metadata": {},
   "outputs": [],
   "source": [
    "import sys\n",
    "import pandas\n",
    "import numpy\n",
    "from pandas               import DataFrame\n",
    "from pandas               import read_csv\n",
    "from numpy                import where\n",
    "from numpy                import array\n",
    "from numpy                import random\n",
    "from sklearn.linear_model import LogisticRegression \n",
    "from sklearn.metrics      import auc\n",
    "from sklearn.metrics      import roc_auc_score\n",
    "from matplotlib           import pyplot\n",
    "from scipy.stats          import pearsonr"
   ]
  },
  {
   "cell_type": "markdown",
   "metadata": {},
   "source": [
    "### Local path"
   ]
  },
  {
   "cell_type": "code",
   "execution_count": 2,
   "metadata": {},
   "outputs": [],
   "source": [
    "sys.path.append(\"C:/Users/abannem/Documents/MSc In Big Data For Business/Courses/12. Descriptive & Predictive Analytics/Group Project\")"
   ]
  },
  {
   "cell_type": "code",
   "execution_count": 3,
   "metadata": {},
   "outputs": [],
   "source": [
    "from ieseg import partition\n",
    "from ieseg import roc"
   ]
  },
  {
   "cell_type": "markdown",
   "metadata": {},
   "source": [
    "### Path"
   ]
  },
  {
   "cell_type": "code",
   "execution_count": 7,
   "metadata": {},
   "outputs": [],
   "source": [
    "directory = \"C:/Users/abannem/Documents/MSc In Big Data For Business/Courses/12. Descriptive & Predictive Analytics/Group Project\"\n",
    "inputData = directory + \"/data\"\n",
    "sandbox   = directory + \"/Sandbox\""
   ]
  },
  {
   "cell_type": "markdown",
   "metadata": {},
   "source": [
    "### Import Data"
   ]
  },
  {
   "cell_type": "code",
   "execution_count": 8,
   "metadata": {},
   "outputs": [
    {
     "ename": "FileNotFoundError",
     "evalue": "[Errno 2] File b'C:/Users/abannem/Documents/MSc In Big Data For Business/Courses/12. Descriptive & Predictive Analytics/Group Project/data/campaign20130411.csv' does not exist: b'C:/Users/abannem/Documents/MSc In Big Data For Business/Courses/12. Descriptive & Predictive Analytics/Group Project/data/campaign20130411.csv'",
     "output_type": "error",
     "traceback": [
      "\u001b[1;31m---------------------------------------------------------------------------\u001b[0m",
      "\u001b[1;31mFileNotFoundError\u001b[0m                         Traceback (most recent call last)",
      "\u001b[1;32m<ipython-input-8-4c6b16bae58c>\u001b[0m in \u001b[0;36m<module>\u001b[1;34m\u001b[0m\n\u001b[0;32m      1\u001b[0m \u001b[1;31m# Train dataset\u001b[0m\u001b[1;33m\u001b[0m\u001b[1;33m\u001b[0m\u001b[1;33m\u001b[0m\u001b[0m\n\u001b[1;32m----> 2\u001b[1;33m \u001b[0mcampaign2013\u001b[0m \u001b[1;33m=\u001b[0m \u001b[0mread_csv\u001b[0m\u001b[1;33m(\u001b[0m\u001b[0minputData\u001b[0m \u001b[1;33m+\u001b[0m \u001b[1;34m\"/campaign20130411.csv\"\u001b[0m\u001b[1;33m,\u001b[0m \u001b[0msep\u001b[0m \u001b[1;33m=\u001b[0m \u001b[1;34m';'\u001b[0m\u001b[1;33m)\u001b[0m\u001b[1;33m\u001b[0m\u001b[1;33m\u001b[0m\u001b[0m\n\u001b[0m",
      "\u001b[1;32mC:\\ProgramData\\Anaconda3\\lib\\site-packages\\pandas\\io\\parsers.py\u001b[0m in \u001b[0;36mparser_f\u001b[1;34m(filepath_or_buffer, sep, delimiter, header, names, index_col, usecols, squeeze, prefix, mangle_dupe_cols, dtype, engine, converters, true_values, false_values, skipinitialspace, skiprows, skipfooter, nrows, na_values, keep_default_na, na_filter, verbose, skip_blank_lines, parse_dates, infer_datetime_format, keep_date_col, date_parser, dayfirst, iterator, chunksize, compression, thousands, decimal, lineterminator, quotechar, quoting, doublequote, escapechar, comment, encoding, dialect, tupleize_cols, error_bad_lines, warn_bad_lines, delim_whitespace, low_memory, memory_map, float_precision)\u001b[0m\n\u001b[0;32m    700\u001b[0m                     skip_blank_lines=skip_blank_lines)\n\u001b[0;32m    701\u001b[0m \u001b[1;33m\u001b[0m\u001b[0m\n\u001b[1;32m--> 702\u001b[1;33m         \u001b[1;32mreturn\u001b[0m \u001b[0m_read\u001b[0m\u001b[1;33m(\u001b[0m\u001b[0mfilepath_or_buffer\u001b[0m\u001b[1;33m,\u001b[0m \u001b[0mkwds\u001b[0m\u001b[1;33m)\u001b[0m\u001b[1;33m\u001b[0m\u001b[1;33m\u001b[0m\u001b[0m\n\u001b[0m\u001b[0;32m    703\u001b[0m \u001b[1;33m\u001b[0m\u001b[0m\n\u001b[0;32m    704\u001b[0m     \u001b[0mparser_f\u001b[0m\u001b[1;33m.\u001b[0m\u001b[0m__name__\u001b[0m \u001b[1;33m=\u001b[0m \u001b[0mname\u001b[0m\u001b[1;33m\u001b[0m\u001b[1;33m\u001b[0m\u001b[0m\n",
      "\u001b[1;32mC:\\ProgramData\\Anaconda3\\lib\\site-packages\\pandas\\io\\parsers.py\u001b[0m in \u001b[0;36m_read\u001b[1;34m(filepath_or_buffer, kwds)\u001b[0m\n\u001b[0;32m    427\u001b[0m \u001b[1;33m\u001b[0m\u001b[0m\n\u001b[0;32m    428\u001b[0m     \u001b[1;31m# Create the parser.\u001b[0m\u001b[1;33m\u001b[0m\u001b[1;33m\u001b[0m\u001b[1;33m\u001b[0m\u001b[0m\n\u001b[1;32m--> 429\u001b[1;33m     \u001b[0mparser\u001b[0m \u001b[1;33m=\u001b[0m \u001b[0mTextFileReader\u001b[0m\u001b[1;33m(\u001b[0m\u001b[0mfilepath_or_buffer\u001b[0m\u001b[1;33m,\u001b[0m \u001b[1;33m**\u001b[0m\u001b[0mkwds\u001b[0m\u001b[1;33m)\u001b[0m\u001b[1;33m\u001b[0m\u001b[1;33m\u001b[0m\u001b[0m\n\u001b[0m\u001b[0;32m    430\u001b[0m \u001b[1;33m\u001b[0m\u001b[0m\n\u001b[0;32m    431\u001b[0m     \u001b[1;32mif\u001b[0m \u001b[0mchunksize\u001b[0m \u001b[1;32mor\u001b[0m \u001b[0miterator\u001b[0m\u001b[1;33m:\u001b[0m\u001b[1;33m\u001b[0m\u001b[1;33m\u001b[0m\u001b[0m\n",
      "\u001b[1;32mC:\\ProgramData\\Anaconda3\\lib\\site-packages\\pandas\\io\\parsers.py\u001b[0m in \u001b[0;36m__init__\u001b[1;34m(self, f, engine, **kwds)\u001b[0m\n\u001b[0;32m    893\u001b[0m             \u001b[0mself\u001b[0m\u001b[1;33m.\u001b[0m\u001b[0moptions\u001b[0m\u001b[1;33m[\u001b[0m\u001b[1;34m'has_index_names'\u001b[0m\u001b[1;33m]\u001b[0m \u001b[1;33m=\u001b[0m \u001b[0mkwds\u001b[0m\u001b[1;33m[\u001b[0m\u001b[1;34m'has_index_names'\u001b[0m\u001b[1;33m]\u001b[0m\u001b[1;33m\u001b[0m\u001b[1;33m\u001b[0m\u001b[0m\n\u001b[0;32m    894\u001b[0m \u001b[1;33m\u001b[0m\u001b[0m\n\u001b[1;32m--> 895\u001b[1;33m         \u001b[0mself\u001b[0m\u001b[1;33m.\u001b[0m\u001b[0m_make_engine\u001b[0m\u001b[1;33m(\u001b[0m\u001b[0mself\u001b[0m\u001b[1;33m.\u001b[0m\u001b[0mengine\u001b[0m\u001b[1;33m)\u001b[0m\u001b[1;33m\u001b[0m\u001b[1;33m\u001b[0m\u001b[0m\n\u001b[0m\u001b[0;32m    896\u001b[0m \u001b[1;33m\u001b[0m\u001b[0m\n\u001b[0;32m    897\u001b[0m     \u001b[1;32mdef\u001b[0m \u001b[0mclose\u001b[0m\u001b[1;33m(\u001b[0m\u001b[0mself\u001b[0m\u001b[1;33m)\u001b[0m\u001b[1;33m:\u001b[0m\u001b[1;33m\u001b[0m\u001b[1;33m\u001b[0m\u001b[0m\n",
      "\u001b[1;32mC:\\ProgramData\\Anaconda3\\lib\\site-packages\\pandas\\io\\parsers.py\u001b[0m in \u001b[0;36m_make_engine\u001b[1;34m(self, engine)\u001b[0m\n\u001b[0;32m   1120\u001b[0m     \u001b[1;32mdef\u001b[0m \u001b[0m_make_engine\u001b[0m\u001b[1;33m(\u001b[0m\u001b[0mself\u001b[0m\u001b[1;33m,\u001b[0m \u001b[0mengine\u001b[0m\u001b[1;33m=\u001b[0m\u001b[1;34m'c'\u001b[0m\u001b[1;33m)\u001b[0m\u001b[1;33m:\u001b[0m\u001b[1;33m\u001b[0m\u001b[1;33m\u001b[0m\u001b[0m\n\u001b[0;32m   1121\u001b[0m         \u001b[1;32mif\u001b[0m \u001b[0mengine\u001b[0m \u001b[1;33m==\u001b[0m \u001b[1;34m'c'\u001b[0m\u001b[1;33m:\u001b[0m\u001b[1;33m\u001b[0m\u001b[1;33m\u001b[0m\u001b[0m\n\u001b[1;32m-> 1122\u001b[1;33m             \u001b[0mself\u001b[0m\u001b[1;33m.\u001b[0m\u001b[0m_engine\u001b[0m \u001b[1;33m=\u001b[0m \u001b[0mCParserWrapper\u001b[0m\u001b[1;33m(\u001b[0m\u001b[0mself\u001b[0m\u001b[1;33m.\u001b[0m\u001b[0mf\u001b[0m\u001b[1;33m,\u001b[0m \u001b[1;33m**\u001b[0m\u001b[0mself\u001b[0m\u001b[1;33m.\u001b[0m\u001b[0moptions\u001b[0m\u001b[1;33m)\u001b[0m\u001b[1;33m\u001b[0m\u001b[1;33m\u001b[0m\u001b[0m\n\u001b[0m\u001b[0;32m   1123\u001b[0m         \u001b[1;32melse\u001b[0m\u001b[1;33m:\u001b[0m\u001b[1;33m\u001b[0m\u001b[1;33m\u001b[0m\u001b[0m\n\u001b[0;32m   1124\u001b[0m             \u001b[1;32mif\u001b[0m \u001b[0mengine\u001b[0m \u001b[1;33m==\u001b[0m \u001b[1;34m'python'\u001b[0m\u001b[1;33m:\u001b[0m\u001b[1;33m\u001b[0m\u001b[1;33m\u001b[0m\u001b[0m\n",
      "\u001b[1;32mC:\\ProgramData\\Anaconda3\\lib\\site-packages\\pandas\\io\\parsers.py\u001b[0m in \u001b[0;36m__init__\u001b[1;34m(self, src, **kwds)\u001b[0m\n\u001b[0;32m   1851\u001b[0m         \u001b[0mkwds\u001b[0m\u001b[1;33m[\u001b[0m\u001b[1;34m'usecols'\u001b[0m\u001b[1;33m]\u001b[0m \u001b[1;33m=\u001b[0m \u001b[0mself\u001b[0m\u001b[1;33m.\u001b[0m\u001b[0musecols\u001b[0m\u001b[1;33m\u001b[0m\u001b[1;33m\u001b[0m\u001b[0m\n\u001b[0;32m   1852\u001b[0m \u001b[1;33m\u001b[0m\u001b[0m\n\u001b[1;32m-> 1853\u001b[1;33m         \u001b[0mself\u001b[0m\u001b[1;33m.\u001b[0m\u001b[0m_reader\u001b[0m \u001b[1;33m=\u001b[0m \u001b[0mparsers\u001b[0m\u001b[1;33m.\u001b[0m\u001b[0mTextReader\u001b[0m\u001b[1;33m(\u001b[0m\u001b[0msrc\u001b[0m\u001b[1;33m,\u001b[0m \u001b[1;33m**\u001b[0m\u001b[0mkwds\u001b[0m\u001b[1;33m)\u001b[0m\u001b[1;33m\u001b[0m\u001b[1;33m\u001b[0m\u001b[0m\n\u001b[0m\u001b[0;32m   1854\u001b[0m         \u001b[0mself\u001b[0m\u001b[1;33m.\u001b[0m\u001b[0munnamed_cols\u001b[0m \u001b[1;33m=\u001b[0m \u001b[0mself\u001b[0m\u001b[1;33m.\u001b[0m\u001b[0m_reader\u001b[0m\u001b[1;33m.\u001b[0m\u001b[0munnamed_cols\u001b[0m\u001b[1;33m\u001b[0m\u001b[1;33m\u001b[0m\u001b[0m\n\u001b[0;32m   1855\u001b[0m \u001b[1;33m\u001b[0m\u001b[0m\n",
      "\u001b[1;32mpandas/_libs/parsers.pyx\u001b[0m in \u001b[0;36mpandas._libs.parsers.TextReader.__cinit__\u001b[1;34m()\u001b[0m\n",
      "\u001b[1;32mpandas/_libs/parsers.pyx\u001b[0m in \u001b[0;36mpandas._libs.parsers.TextReader._setup_parser_source\u001b[1;34m()\u001b[0m\n",
      "\u001b[1;31mFileNotFoundError\u001b[0m: [Errno 2] File b'C:/Users/abannem/Documents/MSc In Big Data For Business/Courses/12. Descriptive & Predictive Analytics/Group Project/data/campaign20130411.csv' does not exist: b'C:/Users/abannem/Documents/MSc In Big Data For Business/Courses/12. Descriptive & Predictive Analytics/Group Project/data/campaign20130411.csv'"
     ]
    }
   ],
   "source": [
    "# Train dataset\n",
    "campaign2013 = read_csv(inputData + \"/campaign20130411.csv\", sep = ';')"
   ]
  },
  {
   "cell_type": "code",
   "execution_count": 6,
   "metadata": {},
   "outputs": [
    {
     "ename": "NameError",
     "evalue": "name 'campaign2013' is not defined",
     "output_type": "error",
     "traceback": [
      "\u001b[1;31m---------------------------------------------------------------------------\u001b[0m",
      "\u001b[1;31mNameError\u001b[0m                                 Traceback (most recent call last)",
      "\u001b[1;32m<ipython-input-6-ec83907ca6ff>\u001b[0m in \u001b[0;36m<module>\u001b[1;34m\u001b[0m\n\u001b[0;32m      1\u001b[0m \u001b[1;31m#Grouping the data by DonorID to find the total amount donated\u001b[0m\u001b[1;33m\u001b[0m\u001b[1;33m\u001b[0m\u001b[1;33m\u001b[0m\u001b[0m\n\u001b[1;32m----> 2\u001b[1;33m \u001b[0mcampaign2013\u001b[0m \u001b[1;33m=\u001b[0m \u001b[0mcampaign2013\u001b[0m\u001b[1;33m.\u001b[0m\u001b[0mgroupby\u001b[0m\u001b[1;33m(\u001b[0m\u001b[1;33m[\u001b[0m\u001b[1;34m'donorID'\u001b[0m\u001b[1;33m]\u001b[0m\u001b[1;33m,\u001b[0m\u001b[0mas_index\u001b[0m\u001b[1;33m=\u001b[0m\u001b[1;32mFalse\u001b[0m\u001b[1;33m)\u001b[0m\u001b[1;33m.\u001b[0m\u001b[0magg\u001b[0m\u001b[1;33m(\u001b[0m\u001b[1;34m'sum'\u001b[0m\u001b[1;33m)\u001b[0m\u001b[1;33m\u001b[0m\u001b[1;33m\u001b[0m\u001b[0m\n\u001b[0m",
      "\u001b[1;31mNameError\u001b[0m: name 'campaign2013' is not defined"
     ]
    }
   ],
   "source": [
    "#Grouping the data by DonorID to find the total amount donated\n",
    "campaign2013 = campaign2013.groupby(['donorID'],as_index=False).agg('sum')"
   ]
  },
  {
   "cell_type": "code",
   "execution_count": 330,
   "metadata": {},
   "outputs": [],
   "source": [
    "#Rename Amount Column\n",
    "campaign2013 = campaign2013.rename(columns= {'amount': 'amount_campaign'})"
   ]
  },
  {
   "cell_type": "code",
   "execution_count": 331,
   "metadata": {},
   "outputs": [],
   "source": [
    "# Donor dataset\n",
    "donors = read_csv(inputData + \"/donors.csv\", sep = ';', na_values = 'Missing') #Assigning missing values"
   ]
  },
  {
   "cell_type": "code",
   "execution_count": 332,
   "metadata": {},
   "outputs": [],
   "source": [
    "#columns Added for Gender\n",
    "#Coumn 1,2,3,4,5\n",
    "donors['is_donor_M'] = where(donors[\"gender\"] =='M', 1,0)\n",
    "donors['is_donor_F'] = where(donors[\"gender\"] =='F', 1,0)\n",
    "donors['is_donor_C'] = where(donors[\"gender\"] =='C', 1,0)\n",
    "donors['is_donor_S'] = where(donors[\"gender\"] =='S', 1,0)\n",
    "donors['is_donor_U'] = where(donors[\"gender\"] =='U', 1,0)"
   ]
  },
  {
   "cell_type": "code",
   "execution_count": 333,
   "metadata": {},
   "outputs": [],
   "source": [
    "#column Added for Language\n",
    "#Coumn 6,7\n",
    "donors['is_donor_French'] = where(donors[\"language\"] =='F', 1,0)\n"
   ]
  },
  {
   "cell_type": "code",
   "execution_count": 334,
   "metadata": {},
   "outputs": [],
   "source": [
    "#Handle Null Colums in Zipcode\n",
    "donors['zipcode'] = where(donors[\"zipcode\"].isnull(), 0,donors[\"zipcode\"])"
   ]
  },
  {
   "cell_type": "code",
   "execution_count": 335,
   "metadata": {},
   "outputs": [],
   "source": [
    "#Handle one string value in Zipcode(No such zipcode in Brussel)\n",
    "donors['zipcode'] = where(donors[\"zipcode\"] =='SW6 3PS',\"10000\",donors['zipcode'])"
   ]
  },
  {
   "cell_type": "code",
   "execution_count": 336,
   "metadata": {},
   "outputs": [],
   "source": [
    "#Change Zipcode type to Numeric\n",
    "donors['zipcode']= pandas.to_numeric(donors['zipcode'])"
   ]
  },
  {
   "cell_type": "code",
   "execution_count": 337,
   "metadata": {},
   "outputs": [],
   "source": [
    "donors['province'] = \"London\""
   ]
  },
  {
   "cell_type": "code",
   "execution_count": 338,
   "metadata": {},
   "outputs": [],
   "source": [
    "#Assign real values to province using Zipcode\n",
    "donors['province'] = where((donors['zipcode'] >= 1000) & (donors['zipcode']<=1299), \"Brussels capital Region\",donors['province'])\n",
    "donors['province'] = where((donors['zipcode'] >= 1300) & (donors['zipcode']<=1499), \"Walloon Brabant\",donors['province'])\n",
    "donors['province'] = where((donors['zipcode'] >= 1500) & (donors['zipcode']<=1999), \"Flemish Brabant\",donors['province'])\n",
    "donors['province'] = where((donors['zipcode'] >= 2000) & (donors['zipcode']<=2999), \"Antwerp\",donors['province'])\n",
    "donors['province'] = where((donors['zipcode'] >= 3000) & (donors['zipcode']<=3499), \"Flemish Brabant2\",donors['province'])\n",
    "donors['province'] = where((donors['zipcode'] >= 3500) & (donors['zipcode']<=3999), \"Limburg\",donors['province'])\n",
    "donors['province'] = where((donors['zipcode'] >= 4000) & (donors['zipcode']<=4999), \"Liège\",donors['province'])\n",
    "donors['province'] = where((donors['zipcode'] >= 5000) & (donors['zipcode']<=5999), \"Namur\",donors['province'])\n",
    "donors['province'] = where((donors['zipcode'] >= 6000) & (donors['zipcode']<=6599), \"Hainaut\",donors['province'])\n",
    "donors['province'] = where((donors['zipcode'] >= 6600) & (donors['zipcode']<=6999), \"Luxembourg\",donors['province'])\n",
    "donors['province'] = where((donors['zipcode'] >= 7000) & (donors['zipcode']<=7999), \"Hainaut2\",donors['province'])\n",
    "donors['province'] = where((donors['zipcode'] >= 8000) & (donors['zipcode']<=8999), \"West Flanders\",donors['province'])\n",
    "donors['province'] = where((donors['zipcode'] >= 9000) & (donors['zipcode']<=9999), \"East Flanders\",donors['province'])"
   ]
  },
  {
   "cell_type": "code",
   "execution_count": 339,
   "metadata": {},
   "outputs": [],
   "source": [
    "#Column Conversion for Province\n",
    "donors['Is_Brussel'] = where(donors['province'] == \"Brussels capital Region\", 1,0)\n",
    "donors['Is_Walloon'] = where(donors['province'] == \"Walloon Brabant\", 1,0)\n",
    "donors['Is_FlemishBrabant'] = where(donors['province'] == \"Flemish Brabant\", 1,0)\n",
    "donors['Is_Antwerp'] = where(donors['province'] == \"Antwerp\", 1,0)\n",
    "donors['Is_FlemishBrabant2'] = where(donors['province'] == \"Flemish Brabant2\", 1,0)\n",
    "donors['Is_Limburg'] = where(donors['province'] == \"Limburg\", 1,0)\n",
    "donors['Is_Liège'] = where(donors['province'] == \"Liège\", 1,0)\n",
    "donors['Is_Namur'] = where(donors['province'] == \"Namur\", 1,0)\n",
    "donors['Is_Hainaut'] = where(donors['province'] == \"Hainaut\", 1,0)\n",
    "donors['Is_Luxembourg'] = where(donors['province'] == \"Luxembourg\", 1,0)\n",
    "donors['Is_Hainaut2'] = where(donors['province'] == \"Hainaut2\", 1,0)\n",
    "donors['Is_WestFlanders'] = where(donors['province'] == \"West Flanders\", 1,0)\n",
    "donors['Is_EastFlanders'] = where(donors['province'] == \"East Flanders\", 1,0)\n"
   ]
  },
  {
   "cell_type": "code",
   "execution_count": 340,
   "metadata": {},
   "outputs": [],
   "source": [
    "#Assign real values to region based on province\n",
    "donors['region'] = where(donors['province'] == \"Brussels capital Region\", \"Brussels\",donors['region'])\n",
    "donors['region'] = where(donors['province'] == \"Walloon Brabant\", \"Wallonia\",donors['region'])\n",
    "donors['region'] = where(donors['province'] == \"Liège\", \"Wallonia\",donors['region'])\n",
    "donors['region'] = where(donors['province'] == \"Namur\", \"Wallonia\",donors['region'])\n",
    "donors['region'] = where(donors['province'] == \"Luxembourg\", \"Wallonia\",donors['region'])\n",
    "donors['region'] = where(donors['province'] == \"Hainaut\", \"Wallonia\",donors['region'])\n",
    "donors['region'] = where(donors['province'] == \"Hainaut2\", \"Wallonia\",donors['region'])\n",
    "donors['region'] = where(donors['province'] == \"Flemish Brabant\", \"Flanders\",donors['region'])\n",
    "donors['region'] = where(donors['province'] == \"Antwerp\", \"Flanders\",donors['region'])\n",
    "donors['region'] = where(donors['province'] == \"Flemish Brabant2\", \"Flanders\",donors['region'])\n",
    "donors['region'] = where(donors['province'] == \"Limburg\", \"Flanders\",donors['region'])\n",
    "donors['region'] = where(donors['province'] == \"West Flanders\", \"Flanders\",donors['region'])\n",
    "donors['region'] = where(donors['province'] == \"East Flanders\", \"Flanders\",donors['region'])"
   ]
  },
  {
   "cell_type": "code",
   "execution_count": 341,
   "metadata": {},
   "outputs": [],
   "source": [
    "#Column Conversion for Region\n",
    "donors['Is_Brussel_region'] = where(donors['region'] == \"Brussels\", 1,0)\n",
    "donors['Is_Wallonia_region'] = where(donors['region'] == \"Wallonia\", 1,0)\n"
   ]
  },
  {
   "cell_type": "code",
   "execution_count": 342,
   "metadata": {},
   "outputs": [],
   "source": [
    "# gifts dataset\n",
    "gifts = read_csv(inputData + \"/gifts.csv\", sep = ';')"
   ]
  },
  {
   "cell_type": "code",
   "execution_count": 343,
   "metadata": {},
   "outputs": [],
   "source": [
    "#renaming the amount column in Gifts\n",
    "gifts = gifts.rename(columns= {'amount': 'amount_gifts'})"
   ]
  },
  {
   "cell_type": "code",
   "execution_count": 344,
   "metadata": {},
   "outputs": [],
   "source": [
    "#Convert to date format\n",
    "gifts['date'] = pandas.to_datetime(gifts['date'])"
   ]
  },
  {
   "cell_type": "code",
   "execution_count": 345,
   "metadata": {},
   "outputs": [],
   "source": [
    "#filtering data before the campaign date\n",
    "gifts = gifts[gifts.date <= '2013-04-11']"
   ]
  },
  {
   "cell_type": "code",
   "execution_count": 346,
   "metadata": {},
   "outputs": [],
   "source": [
    "#Camp count per year\n",
    "camp_count = gifts.groupby(['donorID'],as_index=False).count()[['campID']]"
   ]
  },
  {
   "cell_type": "code",
   "execution_count": 347,
   "metadata": {},
   "outputs": [],
   "source": [
    "#column 8\n",
    "camp_count['is_camp_attended'] = where(camp_count[\"campID\"] > 0, 1,0)"
   ]
  },
  {
   "cell_type": "code",
   "execution_count": 348,
   "metadata": {},
   "outputs": [],
   "source": [
    "#column 9\n",
    "#Total Donation per donor\n",
    "donation_donor = gifts.groupby(['donorID'],as_index=False).sum()[['amount_gifts']]"
   ]
  },
  {
   "cell_type": "code",
   "execution_count": 349,
   "metadata": {},
   "outputs": [],
   "source": [
    "#create a new column for year to obtain the donations per year\n",
    "gifts['gifts_year'] = gifts['date'].dt.year"
   ]
  },
  {
   "cell_type": "code",
   "execution_count": 350,
   "metadata": {},
   "outputs": [],
   "source": [
    "# - to check if it is required qs it has more than one row for donor id\n",
    "#sum the donations to obtain per year\n",
    "donation_year = gifts.groupby(['donorID','gifts_year'],as_index=False).sum()[['amount_gifts']]"
   ]
  },
  {
   "cell_type": "code",
   "execution_count": 351,
   "metadata": {},
   "outputs": [],
   "source": [
    "donation_year_freq = gifts.groupby(['donorID'],as_index=False).sum()[['amount_gifts']]"
   ]
  },
  {
   "cell_type": "code",
   "execution_count": 352,
   "metadata": {},
   "outputs": [],
   "source": [
    "#filtering data for the 3 year frequency rate\n",
    "freq_3 = gifts[(gifts['date'] >= '2010-04-11') & (gifts['date'] <= '2013-04-11')]\n",
    "#column 11\n",
    "#Camp count freq per 3 years\n",
    "freq_3_camp = freq_3.groupby(['donorID'],as_index=False).count()[['campID']]\n",
    "freq_3_camp['is_freq_3_camp_attended'] = where(freq_3_camp[\"campID\"] >0, 1,0)\n",
    "#column 12\n",
    "#Donation freq per 3 years\n",
    "Donation_last_3_years = freq_3.groupby(['donorID'],as_index=False).sum()[['amount_gifts']]\n"
   ]
  },
  {
   "cell_type": "code",
   "execution_count": 353,
   "metadata": {},
   "outputs": [],
   "source": [
    "#filtering data for the 5 year frequency rate\n",
    "freq_5 = gifts[(gifts['date'] >= '2008-04-11') & (gifts['date'] <= '2013-04-11')]\n",
    "#column 13\n",
    "##Camp count freq per 5 years\n",
    "freq_5_camp = freq_5.groupby(['donorID'],as_index=False).count()[['campID']]\n",
    "freq_5_camp['is_freq_5_camp_attended'] = where(freq_5_camp[\"campID\"] >0, 1,0)\n",
    "#column 14\n",
    "#Donation freq per 5 years\n",
    "Donation_last_5_years = freq_5.groupby(['donorID'],as_index=False).sum()[['amount_gifts']]"
   ]
  },
  {
   "cell_type": "code",
   "execution_count": 354,
   "metadata": {},
   "outputs": [],
   "source": [
    "#column 15\n",
    "#max donation by a donor\n",
    "max_donation = gifts.groupby(['donorID','gifts_year'],as_index=False).sum()\n",
    "max_donation = max_donation.groupby(['donorID'],as_index=False).max()[['donorID','amount_gifts']]"
   ]
  },
  {
   "cell_type": "code",
   "execution_count": 355,
   "metadata": {},
   "outputs": [],
   "source": [
    "#column 16\n",
    "#min donation by a donor\n",
    "min_donation = gifts.groupby(['donorID','gifts_year'],as_index=False).sum()\n",
    "min_donation = min_donation.groupby(['donorID'],as_index=False).min()[['donorID','amount_gifts']]"
   ]
  },
  {
   "cell_type": "code",
   "execution_count": 356,
   "metadata": {},
   "outputs": [],
   "source": [
    "#column 17\n",
    "#median donation by a donor\n",
    "#median_donation = gifts.groupby(['donorID','gifts_year'],as_index=False).sum()\n",
    "#median_donation = median_donation.groupby(['donorID'],as_index=False).median()[['donorID','amount_gifts']]"
   ]
  },
  {
   "cell_type": "code",
   "execution_count": 357,
   "metadata": {},
   "outputs": [],
   "source": [
    "#column 18\n",
    "#Max Amount Paid by a donor\n",
    "Max_Amount_Donated=gifts.groupby(['donorID'],as_index=False).max()[['donorID','amount_gifts']]\n",
    "#column 19\n",
    "#Min Amount Paid by a donor\n",
    "Min_Amount_Donated=gifts.groupby(['donorID'],as_index=False).min()[['donorID','amount_gifts']]\n",
    "#column 20\n",
    "#Median Amount Paid by a donor\n",
    "#Median_Amount_Donated=gifts.groupby(['donorID'],as_index=False).median()[['donorID','amount_gifts']]\n"
   ]
  },
  {
   "cell_type": "code",
   "execution_count": 358,
   "metadata": {},
   "outputs": [],
   "source": [
    "#column 21\n",
    "#Fist Amount Donated\n",
    "First_Amount_Donated=gifts.groupby(['donorID','date'],as_index=False).min()[['donorID','amount_gifts','date']]\n",
    "#column 22\n",
    "#Last Amount Donated\n",
    "Last_Amount_Donated=gifts.groupby(['donorID','date'],as_index=False).max()[['donorID','amount_gifts','date']]"
   ]
  },
  {
   "cell_type": "code",
   "execution_count": 359,
   "metadata": {},
   "outputs": [],
   "source": [
    "#column 23\n",
    "#Time since first donation\n",
    "gb = gifts.groupby(['donorID'],as_index=False)\n",
    "gb=gb.agg({'date' : numpy.min})\n",
    "gb_update= gb['date'].dt.year\n",
    "Years_from_first_donation =gb_update.to_frame()\n",
    "Years_from_first_donation['Years_from_first_donation'] = 2013-Years_from_first_donation['date']"
   ]
  },
  {
   "cell_type": "code",
   "execution_count": 360,
   "metadata": {},
   "outputs": [],
   "source": [
    "#column 24\n",
    "#Time since last donation\n",
    "gb = gifts.groupby(['donorID'],as_index=False)\n",
    "gb=gb.agg({'date' : numpy.max})\n",
    "gb_update= gb['date'].dt.year\n",
    "Years_from_last_donation =gb_update.to_frame()\n",
    "Years_from_last_donation['Years_from_last_donation'] = 2013-Years_from_last_donation['date']"
   ]
  },
  {
   "cell_type": "code",
   "execution_count": 361,
   "metadata": {},
   "outputs": [],
   "source": [
    "train = campaign2013"
   ]
  },
  {
   "cell_type": "code",
   "execution_count": 362,
   "metadata": {},
   "outputs": [],
   "source": [
    "train['is_camp_attended'] = camp_count['is_camp_attended']"
   ]
  },
  {
   "cell_type": "code",
   "execution_count": 363,
   "metadata": {},
   "outputs": [],
   "source": [
    "train['total_amount_gifts'] = donation_donor['amount_gifts']"
   ]
  },
  {
   "cell_type": "code",
   "execution_count": 364,
   "metadata": {},
   "outputs": [],
   "source": [
    "train['is_donation_year_GE_35'] = where(train['total_amount_gifts'] > 35, 1,0)"
   ]
  },
  {
   "cell_type": "code",
   "execution_count": 365,
   "metadata": {},
   "outputs": [],
   "source": [
    "train['is_donation_year_GE_60'] = where(train['total_amount_gifts'] > 60, 1,0)"
   ]
  },
  {
   "cell_type": "code",
   "execution_count": 366,
   "metadata": {},
   "outputs": [],
   "source": [
    "train['is_donation_year_GE_100'] = where(train['total_amount_gifts'] > 100, 1,0)"
   ]
  },
  {
   "cell_type": "code",
   "execution_count": 367,
   "metadata": {},
   "outputs": [],
   "source": [
    "train['is_freq_3_camp_attended']=freq_3_camp['is_freq_3_camp_attended']"
   ]
  },
  {
   "cell_type": "code",
   "execution_count": 368,
   "metadata": {},
   "outputs": [],
   "source": [
    "train['is_freq_5_camp_attended']=freq_5_camp['is_freq_5_camp_attended'] "
   ]
  },
  {
   "cell_type": "code",
   "execution_count": 369,
   "metadata": {},
   "outputs": [],
   "source": [
    "train['Donation_last_3_years']=Donation_last_3_years['amount_gifts']"
   ]
  },
  {
   "cell_type": "code",
   "execution_count": 370,
   "metadata": {},
   "outputs": [],
   "source": [
    "train['Donation_last_5_years']=Donation_last_5_years['amount_gifts']"
   ]
  },
  {
   "cell_type": "code",
   "execution_count": 371,
   "metadata": {},
   "outputs": [],
   "source": [
    "train['max_amount_donated']=max_donation['amount_gifts']"
   ]
  },
  {
   "cell_type": "code",
   "execution_count": 372,
   "metadata": {},
   "outputs": [],
   "source": [
    "train['min_amount_donated']=min_donation['amount_gifts']"
   ]
  },
  {
   "cell_type": "code",
   "execution_count": 373,
   "metadata": {},
   "outputs": [],
   "source": [
    "train['median_amount_donated']=median_donation['amount_gifts']"
   ]
  },
  {
   "cell_type": "code",
   "execution_count": 374,
   "metadata": {},
   "outputs": [],
   "source": [
    "train['Max_Amount_Donated_Year']=Max_Amount_Donated['amount_gifts']"
   ]
  },
  {
   "cell_type": "code",
   "execution_count": 375,
   "metadata": {},
   "outputs": [],
   "source": [
    "train['Min_Amount_Donated_Year']=Min_Amount_Donated['amount_gifts']"
   ]
  },
  {
   "cell_type": "code",
   "execution_count": 376,
   "metadata": {},
   "outputs": [],
   "source": [
    "train['Median_Amount_Donated_Year']=Median_Amount_Donated['amount_gifts']"
   ]
  },
  {
   "cell_type": "code",
   "execution_count": 377,
   "metadata": {},
   "outputs": [],
   "source": [
    "train['diff_Years_from_first_donation']=Years_from_first_donation['Years_from_first_donation']"
   ]
  },
  {
   "cell_type": "code",
   "execution_count": 378,
   "metadata": {},
   "outputs": [],
   "source": [
    "train['diff_Years_from_last_donation']=Years_from_last_donation['Years_from_last_donation']"
   ]
  },
  {
   "cell_type": "code",
   "execution_count": 379,
   "metadata": {},
   "outputs": [],
   "source": [
    "train['Total_freq_Donated']=camp_count['campID']"
   ]
  },
  {
   "cell_type": "code",
   "execution_count": 380,
   "metadata": {},
   "outputs": [],
   "source": [
    "train['Last_Amount_Donated'] = Last_Amount_Donated['amount_gifts']"
   ]
  },
  {
   "cell_type": "code",
   "execution_count": 381,
   "metadata": {},
   "outputs": [],
   "source": [
    "train['First_Amount_Donated'] = First_Amount_Donated['amount_gifts']"
   ]
  },
  {
   "cell_type": "code",
   "execution_count": 382,
   "metadata": {},
   "outputs": [],
   "source": [
    "train['is_donor_M']=donors['is_donor_M']\n",
    "train['is_donor_F']=donors['is_donor_F']\n",
    "train['is_donor_C']=donors['is_donor_C']\n",
    "train['is_donor_S']=donors['is_donor_S']\n",
    "train['is_donor_U']=donors['is_donor_U']\n",
    "train['is_donor_French']=donors['is_donor_French']\n",
    "\n"
   ]
  },
  {
   "cell_type": "code",
   "execution_count": 383,
   "metadata": {},
   "outputs": [],
   "source": [
    "train['donor_zipcode'] = donors['zipcode']"
   ]
  },
  {
   "cell_type": "code",
   "execution_count": 384,
   "metadata": {},
   "outputs": [],
   "source": [
    "train['donor_region'] =donors['region']"
   ]
  },
  {
   "cell_type": "code",
   "execution_count": 385,
   "metadata": {},
   "outputs": [],
   "source": [
    "train['donor_province'] =donors['province']"
   ]
  },
  {
   "cell_type": "code",
   "execution_count": 386,
   "metadata": {},
   "outputs": [],
   "source": [
    "train['Is_Brussel_province'] = donors['Is_Brussel']\n",
    "train['Is_Walloon_province'] = donors['Is_Walloon']\n",
    "train['Is_FlemishBrabant_province'] = donors['Is_FlemishBrabant']\n",
    "train['Is_Antwerp_province'] = donors['Is_Antwerp']\n",
    "train['Is_FlemishBrabant2_province'] =donors['Is_FlemishBrabant2']\n",
    "train['Is_Limburg_province'] = donors['Is_Limburg']\n",
    "train['Is_Liège_province'] = donors['Is_Liège']\n",
    "train['Is_Namur_province'] = donors['Is_Namur']\n",
    "train['Is_Hainaut_province'] = donors['Is_Hainaut']\n",
    "train['Is_Luxembourg_province'] = donors['Is_Luxembourg']\n",
    "train['Is_Hainaut2_province'] = donors['Is_Hainaut2']\n",
    "train['Is_WestFlanders_province'] = donors['Is_WestFlanders'] \n",
    "train['Is_EastFlanders_province'] = donors['Is_EastFlanders']"
   ]
  },
  {
   "cell_type": "code",
   "execution_count": 387,
   "metadata": {},
   "outputs": [],
   "source": [
    "train['Is_Brussel_region'] = donors['Is_Brussel_region']\n",
    "train['Is_Wallonia_region'] = donors['Is_Wallonia_region']"
   ]
  },
  {
   "cell_type": "code",
   "execution_count": 388,
   "metadata": {},
   "outputs": [],
   "source": [
    "#Handling NA values\n",
    "\n",
    "train[\"total_amount_gifts\"] = where(train[\"total_amount_gifts\"].isnull(), 0, train[\"total_amount_gifts\"])\n",
    "train[\"max_amount_donated\"] = where(train[\"max_amount_donated\"].isnull(), 0, train[\"max_amount_donated\"])\n",
    "train[\"min_amount_donated\"] = where(train[\"min_amount_donated\"].isnull(), 0, train[\"min_amount_donated\"])\n",
    "#train[\"median_amount_donated\"] = where(train[\"median_amount_donated\"].isnull(), 0, train[\"median_amount_donated\"])\n",
    "train[\"Max_Amount_Donated_Year\"] = where(train[\"Max_Amount_Donated_Year\"].isnull(), 0, train[\"Max_Amount_Donated_Year\"])\n",
    "train[\"Min_Amount_Donated_Year\"] = where(train[\"Min_Amount_Donated_Year\"].isnull(), 0, train[\"Min_Amount_Donated_Year\"])\n",
    "#train[\"Median_Amount_Donated_Year\"] = where(train[\"Median_Amount_Donated_Year\"].isnull(), 0, train[\"Median_Amount_Donated_Year\"])\n",
    "train[\"Last_Amount_Donated\"] = where(train[\"Last_Amount_Donated\"].isnull(), 0, train[\"Last_Amount_Donated\"])\n",
    "train[\"First_Amount_Donated\"] = where(train[\"First_Amount_Donated\"].isnull(), 0, train[\"First_Amount_Donated\"])\n",
    "train[\"diff_Years_from_first_donation\"] = where(train[\"diff_Years_from_first_donation\"].isnull(), 0, train[\"diff_Years_from_first_donation\"])\n",
    "train[\"diff_Years_from_last_donation\"] = where(train[\"diff_Years_from_last_donation\"].isnull(), 0, train[\"diff_Years_from_last_donation\"])\n",
    "train[\"Total_freq_Donated\"] = where(train[\"Total_freq_Donated\"].isnull(), 0, train[\"Total_freq_Donated\"])\n",
    "train[\"is_freq_3_camp_attended\"] = where(train[\"is_freq_3_camp_attended\"].isnull(), 0, train[\"is_freq_3_camp_attended\"])\n",
    "train[\"is_freq_5_camp_attended\"] = where(train[\"is_freq_5_camp_attended\"].isnull(), 0, train[\"is_freq_5_camp_attended\"])\n",
    "train[\"Donation_last_3_years\"] = where(train[\"Donation_last_3_years\"].isnull(), 0, train[\"Donation_last_3_years\"])\n",
    "train[\"Donation_last_5_years\"] = where(train[\"Donation_last_5_years\"].isnull(), 0, train[\"Donation_last_5_years\"])\n"
   ]
  },
  {
   "cell_type": "code",
   "execution_count": 389,
   "metadata": {},
   "outputs": [
    {
     "data": {
      "text/html": [
       "<div>\n",
       "<style scoped>\n",
       "    .dataframe tbody tr th:only-of-type {\n",
       "        vertical-align: middle;\n",
       "    }\n",
       "\n",
       "    .dataframe tbody tr th {\n",
       "        vertical-align: top;\n",
       "    }\n",
       "\n",
       "    .dataframe thead th {\n",
       "        text-align: right;\n",
       "    }\n",
       "</style>\n",
       "<table border=\"1\" class=\"dataframe\">\n",
       "  <thead>\n",
       "    <tr style=\"text-align: right;\">\n",
       "      <th></th>\n",
       "      <th>donorID</th>\n",
       "      <th>amount_campaign</th>\n",
       "      <th>is_camp_attended</th>\n",
       "      <th>total_amount_gifts</th>\n",
       "      <th>is_donation_year_GE_35</th>\n",
       "      <th>is_donation_year_GE_60</th>\n",
       "      <th>is_donation_year_GE_100</th>\n",
       "      <th>is_freq_3_camp_attended</th>\n",
       "      <th>is_freq_5_camp_attended</th>\n",
       "      <th>Donation_last_3_years</th>\n",
       "      <th>...</th>\n",
       "      <th>Is_Limburg_province</th>\n",
       "      <th>Is_Liège_province</th>\n",
       "      <th>Is_Namur_province</th>\n",
       "      <th>Is_Hainaut_province</th>\n",
       "      <th>Is_Luxembourg_province</th>\n",
       "      <th>Is_Hainaut2_province</th>\n",
       "      <th>Is_WestFlanders_province</th>\n",
       "      <th>Is_EastFlanders_province</th>\n",
       "      <th>Is_Brussel_region</th>\n",
       "      <th>Is_Wallonia_region</th>\n",
       "    </tr>\n",
       "  </thead>\n",
       "  <tbody>\n",
       "    <tr>\n",
       "      <th>0</th>\n",
       "      <td>100001</td>\n",
       "      <td>0.0</td>\n",
       "      <td>1</td>\n",
       "      <td>178.49</td>\n",
       "      <td>1</td>\n",
       "      <td>1</td>\n",
       "      <td>1</td>\n",
       "      <td>1.0</td>\n",
       "      <td>1.0</td>\n",
       "      <td>20.0</td>\n",
       "      <td>...</td>\n",
       "      <td>0</td>\n",
       "      <td>0</td>\n",
       "      <td>0</td>\n",
       "      <td>0</td>\n",
       "      <td>0</td>\n",
       "      <td>0</td>\n",
       "      <td>0</td>\n",
       "      <td>0</td>\n",
       "      <td>0</td>\n",
       "      <td>0</td>\n",
       "    </tr>\n",
       "    <tr>\n",
       "      <th>1</th>\n",
       "      <td>100002</td>\n",
       "      <td>0.0</td>\n",
       "      <td>1</td>\n",
       "      <td>20.00</td>\n",
       "      <td>0</td>\n",
       "      <td>0</td>\n",
       "      <td>0</td>\n",
       "      <td>1.0</td>\n",
       "      <td>1.0</td>\n",
       "      <td>26.0</td>\n",
       "      <td>...</td>\n",
       "      <td>0</td>\n",
       "      <td>0</td>\n",
       "      <td>0</td>\n",
       "      <td>0</td>\n",
       "      <td>0</td>\n",
       "      <td>0</td>\n",
       "      <td>0</td>\n",
       "      <td>0</td>\n",
       "      <td>0</td>\n",
       "      <td>0</td>\n",
       "    </tr>\n",
       "    <tr>\n",
       "      <th>2</th>\n",
       "      <td>100004</td>\n",
       "      <td>0.0</td>\n",
       "      <td>1</td>\n",
       "      <td>26.00</td>\n",
       "      <td>0</td>\n",
       "      <td>0</td>\n",
       "      <td>0</td>\n",
       "      <td>1.0</td>\n",
       "      <td>1.0</td>\n",
       "      <td>10.0</td>\n",
       "      <td>...</td>\n",
       "      <td>0</td>\n",
       "      <td>0</td>\n",
       "      <td>0</td>\n",
       "      <td>0</td>\n",
       "      <td>0</td>\n",
       "      <td>0</td>\n",
       "      <td>0</td>\n",
       "      <td>0</td>\n",
       "      <td>0</td>\n",
       "      <td>0</td>\n",
       "    </tr>\n",
       "    <tr>\n",
       "      <th>3</th>\n",
       "      <td>100008</td>\n",
       "      <td>0.0</td>\n",
       "      <td>1</td>\n",
       "      <td>716.22</td>\n",
       "      <td>1</td>\n",
       "      <td>1</td>\n",
       "      <td>1</td>\n",
       "      <td>1.0</td>\n",
       "      <td>1.0</td>\n",
       "      <td>5.0</td>\n",
       "      <td>...</td>\n",
       "      <td>0</td>\n",
       "      <td>0</td>\n",
       "      <td>0</td>\n",
       "      <td>0</td>\n",
       "      <td>0</td>\n",
       "      <td>0</td>\n",
       "      <td>0</td>\n",
       "      <td>0</td>\n",
       "      <td>1</td>\n",
       "      <td>0</td>\n",
       "    </tr>\n",
       "    <tr>\n",
       "      <th>4</th>\n",
       "      <td>100009</td>\n",
       "      <td>0.0</td>\n",
       "      <td>1</td>\n",
       "      <td>14.96</td>\n",
       "      <td>0</td>\n",
       "      <td>0</td>\n",
       "      <td>0</td>\n",
       "      <td>1.0</td>\n",
       "      <td>1.0</td>\n",
       "      <td>70.0</td>\n",
       "      <td>...</td>\n",
       "      <td>0</td>\n",
       "      <td>0</td>\n",
       "      <td>0</td>\n",
       "      <td>0</td>\n",
       "      <td>0</td>\n",
       "      <td>0</td>\n",
       "      <td>0</td>\n",
       "      <td>0</td>\n",
       "      <td>1</td>\n",
       "      <td>0</td>\n",
       "    </tr>\n",
       "  </tbody>\n",
       "</table>\n",
       "<p>5 rows × 46 columns</p>\n",
       "</div>"
      ],
      "text/plain": [
       "   donorID  amount_campaign  is_camp_attended  total_amount_gifts  \\\n",
       "0   100001              0.0                 1              178.49   \n",
       "1   100002              0.0                 1               20.00   \n",
       "2   100004              0.0                 1               26.00   \n",
       "3   100008              0.0                 1              716.22   \n",
       "4   100009              0.0                 1               14.96   \n",
       "\n",
       "   is_donation_year_GE_35  is_donation_year_GE_60  is_donation_year_GE_100  \\\n",
       "0                       1                       1                        1   \n",
       "1                       0                       0                        0   \n",
       "2                       0                       0                        0   \n",
       "3                       1                       1                        1   \n",
       "4                       0                       0                        0   \n",
       "\n",
       "   is_freq_3_camp_attended  is_freq_5_camp_attended  Donation_last_3_years  \\\n",
       "0                      1.0                      1.0                   20.0   \n",
       "1                      1.0                      1.0                   26.0   \n",
       "2                      1.0                      1.0                   10.0   \n",
       "3                      1.0                      1.0                    5.0   \n",
       "4                      1.0                      1.0                   70.0   \n",
       "\n",
       "   ...  Is_Limburg_province  Is_Liège_province  Is_Namur_province  \\\n",
       "0  ...                    0                  0                  0   \n",
       "1  ...                    0                  0                  0   \n",
       "2  ...                    0                  0                  0   \n",
       "3  ...                    0                  0                  0   \n",
       "4  ...                    0                  0                  0   \n",
       "\n",
       "   Is_Hainaut_province  Is_Luxembourg_province  Is_Hainaut2_province  \\\n",
       "0                    0                       0                     0   \n",
       "1                    0                       0                     0   \n",
       "2                    0                       0                     0   \n",
       "3                    0                       0                     0   \n",
       "4                    0                       0                     0   \n",
       "\n",
       "   Is_WestFlanders_province  Is_EastFlanders_province  Is_Brussel_region  \\\n",
       "0                         0                         0                  0   \n",
       "1                         0                         0                  0   \n",
       "2                         0                         0                  0   \n",
       "3                         0                         0                  1   \n",
       "4                         0                         0                  1   \n",
       "\n",
       "   Is_Wallonia_region  \n",
       "0                   0  \n",
       "1                   0  \n",
       "2                   0  \n",
       "3                   0  \n",
       "4                   0  \n",
       "\n",
       "[5 rows x 46 columns]"
      ]
     },
     "execution_count": 389,
     "metadata": {},
     "output_type": "execute_result"
    }
   ],
   "source": [
    "train.head()"
   ]
  },
  {
   "cell_type": "code",
   "execution_count": 390,
   "metadata": {},
   "outputs": [],
   "source": [
    "############################################### TEST DATA ###############################################"
   ]
  },
  {
   "cell_type": "code",
   "execution_count": 391,
   "metadata": {},
   "outputs": [],
   "source": [
    "# Test dataset\n",
    "campaign2014 = read_csv(inputData + \"/campaign20140115.csv\", sep = ';')"
   ]
  },
  {
   "cell_type": "code",
   "execution_count": 392,
   "metadata": {},
   "outputs": [],
   "source": [
    "#Grouping the data by DonorID to find the total amount donated\n",
    "campaign2014 = campaign2014.groupby(['donorID'],as_index=False).agg('sum')"
   ]
  },
  {
   "cell_type": "code",
   "execution_count": 393,
   "metadata": {},
   "outputs": [],
   "source": [
    "#Rename Amount Column\n",
    "campaign2014 = campaign2014.rename(columns= {'amount': 'amount_campaign'})"
   ]
  },
  {
   "cell_type": "code",
   "execution_count": 394,
   "metadata": {},
   "outputs": [],
   "source": [
    "# gifts dataset\n",
    "gifts = read_csv(inputData + \"/gifts.csv\", sep = ';')"
   ]
  },
  {
   "cell_type": "code",
   "execution_count": 395,
   "metadata": {},
   "outputs": [],
   "source": [
    "#Convert to date format\n",
    "gifts['date'] = pandas.to_datetime(gifts['date'])"
   ]
  },
  {
   "cell_type": "code",
   "execution_count": 396,
   "metadata": {},
   "outputs": [],
   "source": [
    "#filtering data before the campaign date\n",
    "gifts_test = gifts[gifts.date <= '2014-01-15']"
   ]
  },
  {
   "cell_type": "code",
   "execution_count": 397,
   "metadata": {},
   "outputs": [],
   "source": [
    "#renaming the amount column in Gifts\n",
    "gifts_test = gifts_test.rename(columns= {'amount': 'amount_gifts'})"
   ]
  },
  {
   "cell_type": "code",
   "execution_count": 398,
   "metadata": {},
   "outputs": [],
   "source": [
    "#Camp count per year\n",
    "camp_count_test = gifts_test.groupby(['donorID'],as_index=False).count()[['campID']]"
   ]
  },
  {
   "cell_type": "code",
   "execution_count": 399,
   "metadata": {},
   "outputs": [],
   "source": [
    "#column 8\n",
    "camp_count_test['is_camp_attended'] = where(camp_count_test[\"campID\"] > 0, 1,0)"
   ]
  },
  {
   "cell_type": "code",
   "execution_count": 400,
   "metadata": {},
   "outputs": [],
   "source": [
    "#column 9\n",
    "#Total Donation per donor\n",
    "donation_donor_test = gifts_test.groupby(['donorID'],as_index=False).sum()[['amount_gifts']]"
   ]
  },
  {
   "cell_type": "code",
   "execution_count": 401,
   "metadata": {},
   "outputs": [],
   "source": [
    "#create a new column for year to obtain the donations per year\n",
    "gifts_test['gifts_year'] = gifts_test['date'].dt.year"
   ]
  },
  {
   "cell_type": "code",
   "execution_count": 402,
   "metadata": {},
   "outputs": [],
   "source": [
    "# - to check if it is required qs it has more than one row for donor id\n",
    "#sum the donations to obtain per year\n",
    "donation_year_test = gifts_test.groupby(['donorID','gifts_year'],as_index=False).sum()[['amount_gifts']]"
   ]
  },
  {
   "cell_type": "code",
   "execution_count": 403,
   "metadata": {},
   "outputs": [],
   "source": [
    "donation_year_freq_test = gifts_test.groupby(['donorID'],as_index=False).sum()[['amount_gifts']]"
   ]
  },
  {
   "cell_type": "code",
   "execution_count": 404,
   "metadata": {},
   "outputs": [],
   "source": [
    "#filtering data for the 3 year frequency rate\n",
    "freq_3_test = gifts_test[(gifts_test['date'] >= '2011-01-15') & (gifts_test['date'] <= '2014-01-15')]\n",
    "#column 11\n",
    "#Camp count freq per 3 years\n",
    "freq_3_camp_test = freq_3_test.groupby(['donorID'],as_index=False).count()[['campID']]\n",
    "freq_3_camp_test['is_freq_3_camp_attended'] = where(freq_3_camp_test[\"campID\"] >0, 1,0)\n",
    "#column 12\n",
    "#Donation freq per 3 years\n",
    "Donation_last_3_years_test = freq_3_test.groupby(['donorID'],as_index=False).sum()[['amount_gifts']]"
   ]
  },
  {
   "cell_type": "code",
   "execution_count": 405,
   "metadata": {},
   "outputs": [
    {
     "name": "stderr",
     "output_type": "stream",
     "text": [
      "C:\\ProgramData\\Anaconda3\\lib\\site-packages\\ipykernel_launcher.py:2: UserWarning: Boolean Series key will be reindexed to match DataFrame index.\n",
      "  \n"
     ]
    }
   ],
   "source": [
    "#filtering data for the 5 year frequency rate\n",
    "freq_5_test = gifts_test[(gifts['date'] >= '2009-01-15') & (gifts_test['date'] <= '2014-01-15')]\n",
    "#column 13\n",
    "##Camp count freq per 5 years\n",
    "freq_5_camp_test = freq_5_test.groupby(['donorID'],as_index=False).count()[['campID']]\n",
    "freq_5_camp_test['is_freq_5_camp_attended'] = where(freq_5_camp_test[\"campID\"] >0, 1,0)\n",
    "#column 14\n",
    "#Donation freq per 5 years\n",
    "Donation_last_5_years_test = freq_5_test.groupby(['donorID'],as_index=False).sum()[['amount_gifts']]"
   ]
  },
  {
   "cell_type": "code",
   "execution_count": 406,
   "metadata": {},
   "outputs": [],
   "source": [
    "#column 15\n",
    "#max donation by a donor\n",
    "max_donation_test = gifts_test.groupby(['donorID','gifts_year'],as_index=False).sum()\n",
    "max_donation_test = max_donation_test.groupby(['donorID'],as_index=False).max()[['donorID','amount_gifts']]"
   ]
  },
  {
   "cell_type": "code",
   "execution_count": 407,
   "metadata": {},
   "outputs": [],
   "source": [
    "#column 16\n",
    "#min donation by a donor\n",
    "min_donation_test = gifts_test.groupby(['donorID','gifts_year'],as_index=False).sum()\n",
    "min_donation_test = min_donation_test.groupby(['donorID'],as_index=False).min()[['donorID','amount_gifts']]"
   ]
  },
  {
   "cell_type": "code",
   "execution_count": 408,
   "metadata": {},
   "outputs": [],
   "source": [
    "#Median "
   ]
  },
  {
   "cell_type": "code",
   "execution_count": 409,
   "metadata": {},
   "outputs": [],
   "source": [
    "#column 18\n",
    "#Max Amount Paid by a donor\n",
    "Max_Amount_Donated_test=gifts_test.groupby(['donorID'],as_index=False).max()[['donorID','amount_gifts']]\n",
    "#column 19\n",
    "#Min Amount Paid by a donor\n",
    "Min_Amount_Donated_test=gifts_test.groupby(['donorID'],as_index=False).min()[['donorID','amount_gifts']]\n",
    "#column 20\n",
    "#Median Amount Paid by a donor\n",
    "Median_Amount_Donated_test=gifts_test.groupby(['donorID'],as_index=False).median()[['donorID','amount_gifts']]"
   ]
  },
  {
   "cell_type": "code",
   "execution_count": 410,
   "metadata": {},
   "outputs": [],
   "source": [
    "#column 21\n",
    "#Fist Amount Donated\n",
    "First_Amount_Donated_test=gifts_test.groupby(['donorID','date'],as_index=False).min()[['donorID','amount_gifts','date']]\n",
    "#column 22\n",
    "#Last Amount Donated\n",
    "Last_Amount_Donated_test=gifts_test.groupby(['donorID','date'],as_index=False).max()[['donorID','amount_gifts','date']]"
   ]
  },
  {
   "cell_type": "code",
   "execution_count": 411,
   "metadata": {},
   "outputs": [],
   "source": [
    "#column 23\n",
    "#Time since first donation\n",
    "gb_test = gifts_test.groupby(['donorID'],as_index=False)\n",
    "gb_test=gb_test.agg({'date' : numpy.min})\n",
    "gb_update_test= gb_test['date'].dt.year\n",
    "Years_from_first_donation_test =gb_update_test.to_frame()\n",
    "Years_from_first_donation_test['Years_from_first_donation'] = 2014-Years_from_first_donation['date']"
   ]
  },
  {
   "cell_type": "code",
   "execution_count": 412,
   "metadata": {},
   "outputs": [],
   "source": [
    "#column 24\n",
    "#Time since last donation\n",
    "gb_test = gifts_test.groupby(['donorID'],as_index=False)\n",
    "gb_test=gb_test.agg({'date' : numpy.max})\n",
    "gb_update_test= gb_test['date'].dt.year\n",
    "Years_from_last_donation_test =gb_update_test.to_frame()\n",
    "Years_from_last_donation_test['Years_from_last_donation'] = 2014-Years_from_last_donation['date']"
   ]
  },
  {
   "cell_type": "code",
   "execution_count": 413,
   "metadata": {},
   "outputs": [],
   "source": [
    "test = campaign2014"
   ]
  },
  {
   "cell_type": "code",
   "execution_count": 414,
   "metadata": {},
   "outputs": [],
   "source": [
    "test['is_camp_attended'] = camp_count_test['is_camp_attended']"
   ]
  },
  {
   "cell_type": "code",
   "execution_count": 415,
   "metadata": {},
   "outputs": [],
   "source": [
    "test['total_amount_gifts'] = donation_donor_test['amount_gifts']"
   ]
  },
  {
   "cell_type": "code",
   "execution_count": 416,
   "metadata": {},
   "outputs": [],
   "source": [
    "test['is_donation_year_GE_35'] = where(test['total_amount_gifts'] > 35, 1,0)"
   ]
  },
  {
   "cell_type": "code",
   "execution_count": 417,
   "metadata": {},
   "outputs": [],
   "source": [
    "test['is_donation_year_GE_60'] = where(test['total_amount_gifts'] > 60, 1,0)"
   ]
  },
  {
   "cell_type": "code",
   "execution_count": 418,
   "metadata": {},
   "outputs": [],
   "source": [
    "test['is_donation_year_GE_100'] = where(test['total_amount_gifts'] > 100, 1,0)"
   ]
  },
  {
   "cell_type": "code",
   "execution_count": 419,
   "metadata": {},
   "outputs": [],
   "source": [
    "test['is_freq_3_camp_attended']=freq_3_camp_test['is_freq_3_camp_attended']"
   ]
  },
  {
   "cell_type": "code",
   "execution_count": 420,
   "metadata": {},
   "outputs": [],
   "source": [
    "test['is_freq_5_camp_attended']=freq_5_camp_test['is_freq_5_camp_attended'] "
   ]
  },
  {
   "cell_type": "code",
   "execution_count": 421,
   "metadata": {},
   "outputs": [],
   "source": [
    "test['Donation_last_3_years']=Donation_last_3_years_test['amount_gifts']"
   ]
  },
  {
   "cell_type": "code",
   "execution_count": 422,
   "metadata": {},
   "outputs": [],
   "source": [
    "test['Donation_last_5_years']=Donation_last_5_years_test['amount_gifts']"
   ]
  },
  {
   "cell_type": "code",
   "execution_count": 423,
   "metadata": {},
   "outputs": [],
   "source": [
    "test['max_amount_donated']=max_donation_test['amount_gifts']"
   ]
  },
  {
   "cell_type": "code",
   "execution_count": 424,
   "metadata": {},
   "outputs": [],
   "source": [
    "test['min_amount_donated']=min_donation_test['amount_gifts']"
   ]
  },
  {
   "cell_type": "code",
   "execution_count": 425,
   "metadata": {},
   "outputs": [],
   "source": [
    "test['Max_Amount_Donated_Year']=Max_Amount_Donated_test['amount_gifts']"
   ]
  },
  {
   "cell_type": "code",
   "execution_count": 426,
   "metadata": {},
   "outputs": [],
   "source": [
    "test['Min_Amount_Donated_Year']=Min_Amount_Donated_test['amount_gifts']"
   ]
  },
  {
   "cell_type": "code",
   "execution_count": 427,
   "metadata": {},
   "outputs": [],
   "source": [
    "test['Median_Amount_Donated_Year']=Median_Amount_Donated_test['amount_gifts']"
   ]
  },
  {
   "cell_type": "code",
   "execution_count": 428,
   "metadata": {},
   "outputs": [],
   "source": [
    "test['diff_Years_from_first_donation']=Years_from_first_donation_test['Years_from_first_donation']"
   ]
  },
  {
   "cell_type": "code",
   "execution_count": 429,
   "metadata": {},
   "outputs": [],
   "source": [
    "test['diff_Years_from_last_donation']=Years_from_last_donation_test['Years_from_last_donation']"
   ]
  },
  {
   "cell_type": "code",
   "execution_count": 430,
   "metadata": {},
   "outputs": [],
   "source": [
    "test['Total_freq_Donated']=camp_count_test['campID']"
   ]
  },
  {
   "cell_type": "code",
   "execution_count": 431,
   "metadata": {},
   "outputs": [],
   "source": [
    "test['Last_Amount_Donated'] = Last_Amount_Donated_test['amount_gifts']"
   ]
  },
  {
   "cell_type": "code",
   "execution_count": 432,
   "metadata": {},
   "outputs": [],
   "source": [
    "test['First_Amount_Donated'] = First_Amount_Donated_test['amount_gifts']"
   ]
  },
  {
   "cell_type": "code",
   "execution_count": 433,
   "metadata": {},
   "outputs": [],
   "source": [
    "test['is_donor_M']=donors['is_donor_M']\n",
    "test['is_donor_F']=donors['is_donor_F']\n",
    "test['is_donor_C']=donors['is_donor_C']\n",
    "test['is_donor_S']=donors['is_donor_S']\n",
    "test['is_donor_U']=donors['is_donor_U']\n",
    "test['is_donor_French']=donors['is_donor_French']"
   ]
  },
  {
   "cell_type": "code",
   "execution_count": 434,
   "metadata": {},
   "outputs": [],
   "source": [
    "test['donor_zipcode'] = donors['zipcode']"
   ]
  },
  {
   "cell_type": "code",
   "execution_count": 435,
   "metadata": {},
   "outputs": [],
   "source": [
    "test['donor_region'] =donors['region']"
   ]
  },
  {
   "cell_type": "code",
   "execution_count": 436,
   "metadata": {},
   "outputs": [],
   "source": [
    "test['donor_province'] =donors['province']"
   ]
  },
  {
   "cell_type": "code",
   "execution_count": 437,
   "metadata": {},
   "outputs": [],
   "source": [
    "test['Is_Brussel_province'] = donors['Is_Brussel']\n",
    "test['Is_Walloon_province'] = donors['Is_Walloon']\n",
    "test['Is_FlemishBrabant_province'] = donors['Is_FlemishBrabant']\n",
    "test['Is_Antwerp_province'] = donors['Is_Antwerp']\n",
    "test['Is_FlemishBrabant2_province'] =donors['Is_FlemishBrabant2']\n",
    "test['Is_Limburg_province'] = donors['Is_Limburg']\n",
    "test['Is_Liège_province'] = donors['Is_Liège']\n",
    "test['Is_Namur_province'] = donors['Is_Namur']\n",
    "test['Is_Hainaut_province'] = donors['Is_Hainaut']\n",
    "test['Is_Luxembourg_province'] = donors['Is_Luxembourg']\n",
    "test['Is_Hainaut2_province'] = donors['Is_Hainaut2']\n",
    "test['Is_WestFlanders_province'] = donors['Is_WestFlanders'] \n",
    "test['Is_EastFlanders_province'] = donors['Is_EastFlanders']\n",
    "test['Is_Brussel_region'] = donors['Is_Brussel_region']\n",
    "test['Is_Wallonia_region'] = donors['Is_Wallonia_region']"
   ]
  },
  {
   "cell_type": "code",
   "execution_count": 438,
   "metadata": {},
   "outputs": [],
   "source": [
    "test['Is_Brussel_region'] = donors['Is_Brussel_region']\n",
    "test['Is_Wallonia_region'] = donors['Is_Wallonia_region']"
   ]
  },
  {
   "cell_type": "code",
   "execution_count": 440,
   "metadata": {},
   "outputs": [],
   "source": [
    "#Handling NA values\n",
    "\n",
    "test[\"total_amount_gifts\"] = where(test[\"total_amount_gifts\"].isnull(), 0, test[\"total_amount_gifts\"])\n",
    "test[\"max_amount_donated\"] = where(test[\"max_amount_donated\"].isnull(), 0, test[\"max_amount_donated\"])\n",
    "test[\"min_amount_donated\"] = where(test[\"min_amount_donated\"].isnull(), 0, test[\"min_amount_donated\"])\n",
    "#test[\"median_amount_donated\"] = where(test[\"median_amount_donated\"].isnull(), 0, test[\"median_amount_donated\"])\n",
    "test[\"Max_Amount_Donated_Year\"] = where(test[\"Max_Amount_Donated_Year\"].isnull(), 0, test[\"Max_Amount_Donated_Year\"])\n",
    "test[\"Min_Amount_Donated_Year\"] = where(test[\"Min_Amount_Donated_Year\"].isnull(), 0, test[\"Min_Amount_Donated_Year\"])\n",
    "#test[\"Median_Amount_Donated_Year\"] = where(test[\"Median_Amount_Donated_Year\"].isnull(), 0, test[\"Median_Amount_Donated_Year\"])\n",
    "test[\"Last_Amount_Donated\"] = where(test[\"Last_Amount_Donated\"].isnull(), 0, test[\"Last_Amount_Donated\"])\n",
    "test[\"First_Amount_Donated\"] = where(test[\"First_Amount_Donated\"].isnull(), 0, test[\"First_Amount_Donated\"])\n",
    "test[\"diff_Years_from_first_donation\"] = where(test[\"diff_Years_from_first_donation\"].isnull(), 0, test[\"diff_Years_from_first_donation\"])\n",
    "test[\"diff_Years_from_last_donation\"] = where(test[\"diff_Years_from_last_donation\"].isnull(), 0, test[\"diff_Years_from_last_donation\"])\n",
    "test[\"Total_freq_Donated\"] = where(test[\"Total_freq_Donated\"].isnull(), 0, test[\"Total_freq_Donated\"])\n",
    "test[\"is_freq_3_camp_attended\"] = where(test[\"is_freq_3_camp_attended\"].isnull(), 0, test[\"is_freq_3_camp_attended\"])\n",
    "test[\"is_freq_5_camp_attended\"] = where(test[\"is_freq_5_camp_attended\"].isnull(), 0, test[\"is_freq_5_camp_attended\"])\n",
    "test[\"Donation_last_3_years\"] = where(test[\"Donation_last_3_years\"].isnull(), 0, test[\"Donation_last_3_years\"])\n",
    "test[\"Donation_last_5_years\"] = where(test[\"Donation_last_5_years\"].isnull(), 0, test[\"Donation_last_5_years\"])"
   ]
  },
  {
   "cell_type": "code",
   "execution_count": 441,
   "metadata": {},
   "outputs": [
    {
     "data": {
      "text/html": [
       "<div>\n",
       "<style scoped>\n",
       "    .dataframe tbody tr th:only-of-type {\n",
       "        vertical-align: middle;\n",
       "    }\n",
       "\n",
       "    .dataframe tbody tr th {\n",
       "        vertical-align: top;\n",
       "    }\n",
       "\n",
       "    .dataframe thead th {\n",
       "        text-align: right;\n",
       "    }\n",
       "</style>\n",
       "<table border=\"1\" class=\"dataframe\">\n",
       "  <thead>\n",
       "    <tr style=\"text-align: right;\">\n",
       "      <th></th>\n",
       "      <th>donorID</th>\n",
       "      <th>amount_campaign</th>\n",
       "      <th>is_camp_attended</th>\n",
       "      <th>total_amount_gifts</th>\n",
       "      <th>is_donation_year_GE_35</th>\n",
       "      <th>is_donation_year_GE_60</th>\n",
       "      <th>is_donation_year_GE_100</th>\n",
       "      <th>is_freq_3_camp_attended</th>\n",
       "      <th>is_freq_5_camp_attended</th>\n",
       "      <th>Donation_last_3_years</th>\n",
       "      <th>...</th>\n",
       "      <th>Is_Limburg_province</th>\n",
       "      <th>Is_Liège_province</th>\n",
       "      <th>Is_Namur_province</th>\n",
       "      <th>Is_Hainaut_province</th>\n",
       "      <th>Is_Luxembourg_province</th>\n",
       "      <th>Is_Hainaut2_province</th>\n",
       "      <th>Is_WestFlanders_province</th>\n",
       "      <th>Is_EastFlanders_province</th>\n",
       "      <th>Is_Brussel_region</th>\n",
       "      <th>Is_Wallonia_region</th>\n",
       "    </tr>\n",
       "  </thead>\n",
       "  <tbody>\n",
       "    <tr>\n",
       "      <th>0</th>\n",
       "      <td>100001</td>\n",
       "      <td>0.0</td>\n",
       "      <td>1</td>\n",
       "      <td>178.49</td>\n",
       "      <td>1</td>\n",
       "      <td>1</td>\n",
       "      <td>1</td>\n",
       "      <td>1.0</td>\n",
       "      <td>1.0</td>\n",
       "      <td>42.0</td>\n",
       "      <td>...</td>\n",
       "      <td>0</td>\n",
       "      <td>0</td>\n",
       "      <td>0</td>\n",
       "      <td>0</td>\n",
       "      <td>0</td>\n",
       "      <td>0</td>\n",
       "      <td>0</td>\n",
       "      <td>0</td>\n",
       "      <td>0</td>\n",
       "      <td>0</td>\n",
       "    </tr>\n",
       "    <tr>\n",
       "      <th>1</th>\n",
       "      <td>100002</td>\n",
       "      <td>0.0</td>\n",
       "      <td>1</td>\n",
       "      <td>20.00</td>\n",
       "      <td>0</td>\n",
       "      <td>0</td>\n",
       "      <td>0</td>\n",
       "      <td>1.0</td>\n",
       "      <td>1.0</td>\n",
       "      <td>20.0</td>\n",
       "      <td>...</td>\n",
       "      <td>0</td>\n",
       "      <td>0</td>\n",
       "      <td>0</td>\n",
       "      <td>0</td>\n",
       "      <td>0</td>\n",
       "      <td>0</td>\n",
       "      <td>0</td>\n",
       "      <td>0</td>\n",
       "      <td>0</td>\n",
       "      <td>0</td>\n",
       "    </tr>\n",
       "    <tr>\n",
       "      <th>2</th>\n",
       "      <td>100008</td>\n",
       "      <td>0.0</td>\n",
       "      <td>1</td>\n",
       "      <td>42.00</td>\n",
       "      <td>1</td>\n",
       "      <td>0</td>\n",
       "      <td>0</td>\n",
       "      <td>1.0</td>\n",
       "      <td>1.0</td>\n",
       "      <td>5.0</td>\n",
       "      <td>...</td>\n",
       "      <td>0</td>\n",
       "      <td>0</td>\n",
       "      <td>0</td>\n",
       "      <td>0</td>\n",
       "      <td>0</td>\n",
       "      <td>0</td>\n",
       "      <td>0</td>\n",
       "      <td>0</td>\n",
       "      <td>0</td>\n",
       "      <td>0</td>\n",
       "    </tr>\n",
       "    <tr>\n",
       "      <th>3</th>\n",
       "      <td>100009</td>\n",
       "      <td>0.0</td>\n",
       "      <td>1</td>\n",
       "      <td>716.22</td>\n",
       "      <td>1</td>\n",
       "      <td>1</td>\n",
       "      <td>1</td>\n",
       "      <td>1.0</td>\n",
       "      <td>1.0</td>\n",
       "      <td>40.0</td>\n",
       "      <td>...</td>\n",
       "      <td>0</td>\n",
       "      <td>0</td>\n",
       "      <td>0</td>\n",
       "      <td>0</td>\n",
       "      <td>0</td>\n",
       "      <td>0</td>\n",
       "      <td>0</td>\n",
       "      <td>0</td>\n",
       "      <td>1</td>\n",
       "      <td>0</td>\n",
       "    </tr>\n",
       "    <tr>\n",
       "      <th>4</th>\n",
       "      <td>100010</td>\n",
       "      <td>0.0</td>\n",
       "      <td>1</td>\n",
       "      <td>24.96</td>\n",
       "      <td>0</td>\n",
       "      <td>0</td>\n",
       "      <td>0</td>\n",
       "      <td>1.0</td>\n",
       "      <td>1.0</td>\n",
       "      <td>40.0</td>\n",
       "      <td>...</td>\n",
       "      <td>0</td>\n",
       "      <td>0</td>\n",
       "      <td>0</td>\n",
       "      <td>0</td>\n",
       "      <td>0</td>\n",
       "      <td>0</td>\n",
       "      <td>0</td>\n",
       "      <td>0</td>\n",
       "      <td>1</td>\n",
       "      <td>0</td>\n",
       "    </tr>\n",
       "    <tr>\n",
       "      <th>5</th>\n",
       "      <td>100011</td>\n",
       "      <td>0.0</td>\n",
       "      <td>1</td>\n",
       "      <td>5.00</td>\n",
       "      <td>0</td>\n",
       "      <td>0</td>\n",
       "      <td>0</td>\n",
       "      <td>1.0</td>\n",
       "      <td>1.0</td>\n",
       "      <td>20.0</td>\n",
       "      <td>...</td>\n",
       "      <td>0</td>\n",
       "      <td>0</td>\n",
       "      <td>0</td>\n",
       "      <td>0</td>\n",
       "      <td>0</td>\n",
       "      <td>0</td>\n",
       "      <td>0</td>\n",
       "      <td>0</td>\n",
       "      <td>1</td>\n",
       "      <td>0</td>\n",
       "    </tr>\n",
       "    <tr>\n",
       "      <th>6</th>\n",
       "      <td>100012</td>\n",
       "      <td>0.0</td>\n",
       "      <td>1</td>\n",
       "      <td>429.16</td>\n",
       "      <td>1</td>\n",
       "      <td>1</td>\n",
       "      <td>1</td>\n",
       "      <td>1.0</td>\n",
       "      <td>1.0</td>\n",
       "      <td>5.0</td>\n",
       "      <td>...</td>\n",
       "      <td>0</td>\n",
       "      <td>0</td>\n",
       "      <td>0</td>\n",
       "      <td>0</td>\n",
       "      <td>0</td>\n",
       "      <td>0</td>\n",
       "      <td>0</td>\n",
       "      <td>0</td>\n",
       "      <td>1</td>\n",
       "      <td>0</td>\n",
       "    </tr>\n",
       "    <tr>\n",
       "      <th>7</th>\n",
       "      <td>100018</td>\n",
       "      <td>0.0</td>\n",
       "      <td>1</td>\n",
       "      <td>124.37</td>\n",
       "      <td>1</td>\n",
       "      <td>1</td>\n",
       "      <td>1</td>\n",
       "      <td>1.0</td>\n",
       "      <td>1.0</td>\n",
       "      <td>6.0</td>\n",
       "      <td>...</td>\n",
       "      <td>0</td>\n",
       "      <td>0</td>\n",
       "      <td>0</td>\n",
       "      <td>0</td>\n",
       "      <td>0</td>\n",
       "      <td>0</td>\n",
       "      <td>0</td>\n",
       "      <td>0</td>\n",
       "      <td>0</td>\n",
       "      <td>0</td>\n",
       "    </tr>\n",
       "    <tr>\n",
       "      <th>8</th>\n",
       "      <td>100019</td>\n",
       "      <td>0.0</td>\n",
       "      <td>1</td>\n",
       "      <td>326.78</td>\n",
       "      <td>1</td>\n",
       "      <td>1</td>\n",
       "      <td>1</td>\n",
       "      <td>1.0</td>\n",
       "      <td>1.0</td>\n",
       "      <td>10.0</td>\n",
       "      <td>...</td>\n",
       "      <td>0</td>\n",
       "      <td>0</td>\n",
       "      <td>0</td>\n",
       "      <td>0</td>\n",
       "      <td>0</td>\n",
       "      <td>0</td>\n",
       "      <td>0</td>\n",
       "      <td>0</td>\n",
       "      <td>1</td>\n",
       "      <td>0</td>\n",
       "    </tr>\n",
       "    <tr>\n",
       "      <th>9</th>\n",
       "      <td>100021</td>\n",
       "      <td>0.0</td>\n",
       "      <td>1</td>\n",
       "      <td>40.00</td>\n",
       "      <td>1</td>\n",
       "      <td>0</td>\n",
       "      <td>0</td>\n",
       "      <td>1.0</td>\n",
       "      <td>1.0</td>\n",
       "      <td>86.0</td>\n",
       "      <td>...</td>\n",
       "      <td>0</td>\n",
       "      <td>0</td>\n",
       "      <td>0</td>\n",
       "      <td>0</td>\n",
       "      <td>0</td>\n",
       "      <td>0</td>\n",
       "      <td>0</td>\n",
       "      <td>0</td>\n",
       "      <td>1</td>\n",
       "      <td>0</td>\n",
       "    </tr>\n",
       "  </tbody>\n",
       "</table>\n",
       "<p>10 rows × 45 columns</p>\n",
       "</div>"
      ],
      "text/plain": [
       "   donorID  amount_campaign  is_camp_attended  total_amount_gifts  \\\n",
       "0   100001              0.0                 1              178.49   \n",
       "1   100002              0.0                 1               20.00   \n",
       "2   100008              0.0                 1               42.00   \n",
       "3   100009              0.0                 1              716.22   \n",
       "4   100010              0.0                 1               24.96   \n",
       "5   100011              0.0                 1                5.00   \n",
       "6   100012              0.0                 1              429.16   \n",
       "7   100018              0.0                 1              124.37   \n",
       "8   100019              0.0                 1              326.78   \n",
       "9   100021              0.0                 1               40.00   \n",
       "\n",
       "   is_donation_year_GE_35  is_donation_year_GE_60  is_donation_year_GE_100  \\\n",
       "0                       1                       1                        1   \n",
       "1                       0                       0                        0   \n",
       "2                       1                       0                        0   \n",
       "3                       1                       1                        1   \n",
       "4                       0                       0                        0   \n",
       "5                       0                       0                        0   \n",
       "6                       1                       1                        1   \n",
       "7                       1                       1                        1   \n",
       "8                       1                       1                        1   \n",
       "9                       1                       0                        0   \n",
       "\n",
       "   is_freq_3_camp_attended  is_freq_5_camp_attended  Donation_last_3_years  \\\n",
       "0                      1.0                      1.0                   42.0   \n",
       "1                      1.0                      1.0                   20.0   \n",
       "2                      1.0                      1.0                    5.0   \n",
       "3                      1.0                      1.0                   40.0   \n",
       "4                      1.0                      1.0                   40.0   \n",
       "5                      1.0                      1.0                   20.0   \n",
       "6                      1.0                      1.0                    5.0   \n",
       "7                      1.0                      1.0                    6.0   \n",
       "8                      1.0                      1.0                   10.0   \n",
       "9                      1.0                      1.0                   86.0   \n",
       "\n",
       "   ...  Is_Limburg_province  Is_Liège_province  Is_Namur_province  \\\n",
       "0  ...                    0                  0                  0   \n",
       "1  ...                    0                  0                  0   \n",
       "2  ...                    0                  0                  0   \n",
       "3  ...                    0                  0                  0   \n",
       "4  ...                    0                  0                  0   \n",
       "5  ...                    0                  0                  0   \n",
       "6  ...                    0                  0                  0   \n",
       "7  ...                    0                  0                  0   \n",
       "8  ...                    0                  0                  0   \n",
       "9  ...                    0                  0                  0   \n",
       "\n",
       "   Is_Hainaut_province  Is_Luxembourg_province  Is_Hainaut2_province  \\\n",
       "0                    0                       0                     0   \n",
       "1                    0                       0                     0   \n",
       "2                    0                       0                     0   \n",
       "3                    0                       0                     0   \n",
       "4                    0                       0                     0   \n",
       "5                    0                       0                     0   \n",
       "6                    0                       0                     0   \n",
       "7                    0                       0                     0   \n",
       "8                    0                       0                     0   \n",
       "9                    0                       0                     0   \n",
       "\n",
       "   Is_WestFlanders_province  Is_EastFlanders_province  Is_Brussel_region  \\\n",
       "0                         0                         0                  0   \n",
       "1                         0                         0                  0   \n",
       "2                         0                         0                  0   \n",
       "3                         0                         0                  1   \n",
       "4                         0                         0                  1   \n",
       "5                         0                         0                  1   \n",
       "6                         0                         0                  1   \n",
       "7                         0                         0                  0   \n",
       "8                         0                         0                  1   \n",
       "9                         0                         0                  1   \n",
       "\n",
       "   Is_Wallonia_region  \n",
       "0                   0  \n",
       "1                   0  \n",
       "2                   0  \n",
       "3                   0  \n",
       "4                   0  \n",
       "5                   0  \n",
       "6                   0  \n",
       "7                   0  \n",
       "8                   0  \n",
       "9                   0  \n",
       "\n",
       "[10 rows x 45 columns]"
      ]
     },
     "execution_count": 441,
     "metadata": {},
     "output_type": "execute_result"
    }
   ],
   "source": [
    "test.head(10)"
   ]
  },
  {
   "cell_type": "code",
   "execution_count": 442,
   "metadata": {},
   "outputs": [],
   "source": [
    "test.to_csv(r'C:\\Users\\dkalapati\\Desktop\\predictive and descriptive\\casestudy\\data\\test.csv')"
   ]
  },
  {
   "cell_type": "code",
   "execution_count": null,
   "metadata": {},
   "outputs": [],
   "source": []
  }
 ],
 "metadata": {
  "kernelspec": {
   "display_name": "Python 3",
   "language": "python",
   "name": "python3"
  },
  "language_info": {
   "codemirror_mode": {
    "name": "ipython",
    "version": 3
   },
   "file_extension": ".py",
   "mimetype": "text/x-python",
   "name": "python",
   "nbconvert_exporter": "python",
   "pygments_lexer": "ipython3",
   "version": "3.7.3"
  }
 },
 "nbformat": 4,
 "nbformat_minor": 2
}
